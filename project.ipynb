{
 "cells": [
  {
   "cell_type": "markdown",
   "metadata": {},
   "source": [
    "# **Project Title: Ragebait Detection Using Retrofitted GloVe Vectors**\n",
    "### **Course: NLP Applications**\n",
    "### **Author: Ben Joseph**"
   ]
  },
  {
   "cell_type": "markdown",
   "metadata": {},
   "source": [
    "## **Motivation**\n",
    "\n",
    "The growing prevalence of harmful online content, especially memes inciting hate or misogyny, poses significant challenges for digital platforms. Detecting such content effectively, while maintaining user data privacy and computational efficiency, remains an open problem. \n",
    "\n",
    "Our project addresses the detection of ragebait memes, a specific subset of harmful content, using embeddings and cosine similarity. By retrofitting pre-trained GloVe embeddings with domain-specific data, we aim to improve classification accuracy and efficiency over traditional large-scale language models like BERT or GPT."
   ]
  },
  {
   "cell_type": "markdown",
   "metadata": {},
   "source": [
    "## **Approach**\n",
    "\n",
    "We implemented and evaluated three methods for classifying ragebait content:\n",
    "\n",
    "- **Baseline GloVe Method**:\n",
    "  - Vectorizes descriptions using pre-trained GloVe embeddings (300d).\n",
    "  - Classifies descriptions based on cosine similarity to predefined vectors for `ragebait` and `not ragebait`.\n",
    "\n",
    "- **SBERT Method**:\n",
    "  - Leverages sentence-level embeddings from a pre-trained SBERT model to encode descriptions.\n",
    "  - Compares embeddings via cosine similarity to the `ragebait` and `not ragebait` centroids.\n",
    "\n",
    "- **Retrofitted GloVe Method**:\n",
    "  - Adapts GloVe embeddings using descriptions labeled as `ragebait` or `not ragebait`.\n",
    "  - Retrofitting shifts existing vectors closer to domain-specific contexts, improving relevance and performance.\n",
    "\n",
    "### **Mathematical Representation**\n",
    "The classification relies on cosine similarity:\n",
    "\n",
    "\\( \\text{cosine\\_similarity}(\\vec{a}, \\vec{b}) = \\frac{\\vec{a} \\cdot \\vec{b}}{\\|\\vec{a}\\| \\|\\vec{b}\\|} \\)\n",
    "\n",
    "- Description vectors \\(\\vec{a}\\) are compared to class centroids \\(\\vec{b}\\) (`ragebait` or `not ragebait`).\n",
    "- The label with higher similarity is assigned."
   ]
  },
  {
   "cell_type": "markdown",
   "metadata": {},
   "source": [
    "## **Data**\n",
    "\n",
    "### **Training Dataset**\n",
    "- **Custom Dataset**:\n",
    "  - `images`: Contains 800+ meme images. named ENG'Number'.jpg if ragebait and ENGN'number'.jpg if not\n",
    "  - `descriptions`: Contains corresponding text descriptions (`_description.txt`).\n",
    "\n",
    "### **Evaluation Dataset**\n",
    "- **MAMI (Multimedia Automatic Misogyny Identification) Dataset**:\n",
    "  - `MAMI_test/`: Contains meme images.\n",
    "  - `MAMI_summary/`: Contains corresponding text descriptions (`_description.txt`) and labels (`test_labels.txt`).\n",
    "\n",
    "### **Additional Data**\n",
    "- **GloVe Embeddings**:\n",
    "  - `glove.840B.300d.txt`: Pre-trained word embeddings.\n",
    "  - `glove_retrofitted.txt`: Retrofitted embeddings for `ragebait` detection."
   ]
  },
  {
   "cell_type": "markdown",
   "metadata": {},
   "source": [
    "## **Code**\n",
    "\n",
    "- **`create_descriptions.py`**: Generates text descriptions for images using ChatGPT.\n",
    "- **`retrofit_reevaluate.py`**: Performs classification using retrofitted GloVe embeddings.\n",
    "- **`Evaluation_3methods.py`**: Compares the three methods (Baseline GloVe, SBERT, Retrofitted GloVe).\n",
    "- **`demo_newimage.py`**: Demonstrates classification on new images.\n",
    "\n",
    "**External Libraries**: \n",
    "- `numpy`, `torch`, `scikit-learn`, `openai`, `sentence-transformers`."
   ]
  },
  {
   "cell_type": "markdown",
   "metadata": {},
   "source": [
    "## **Experimental Setup**\n",
    "\n",
    "### **Evaluation Framework**\n",
    "- Dataset split: Test dataset used directly for evaluation.\n",
    "- Metrics:\n",
    "  - **Precision**: Proportion of correctly identified `ragebait` memes among those classified as `ragebait`.\n",
    "  - **Recall**: Proportion of actual `ragebait` memes identified correctly.\n",
    "  - **F1-Score**: Harmonic mean of precision and recall.\n",
    "  - **Accuracy**: Overall proportion of correct classifications.\n",
    "\n",
    "### **Baseline Comparison**\n",
    "- Methods evaluated on the same dataset to ensure fairness.\n",
    "- Metrics logged for comparative analysis.\n",
    "- Also examining The Literature review on methods used to evaluate MAMI presented in Fersini et al*\n",
    "\n",
    "![Chart describing metrics of other approaches](fersini.png)\n",
    "\n",
    "*Fersini, E., Gasparini, F., Rizzi, G., Saibene, A., Chulvi, B., Rosso, P., Lees, A., & Sorensen, J. (2022). SemEval-2022 Task 5: Multimedia Automatic Misogyny Identification. Proceedings of the 16th International Workshop on Semantic Evaluation (SemEval-2022). Association for Computational Linguistics.\n",
    "\n",
    "SemEval 2022 Task 5: https://competitions.codalab.org/competitions/34175#results"
   ]
  },
  {
   "cell_type": "markdown",
   "metadata": {},
   "source": [
    "## **Results on the MAMI dataset**\n",
    "\n",
    "| **Method**               | **Precision** | **Recall** | **F1-Score** | **Accuracy** |\n",
    "|--------------------------|---------------|------------|--------------|--------------|\n",
    "| Baseline GloVe           | 0.59          | 0.08       | 0.14         | 0.48         |\n",
    "| SBERT                    | 0.59          | 0.63       | 0.61         | 0.56         |\n",
    "| Retrofitted GloVe (Ours) | 0.79          | 0.77       | 0.78         | 0.76         |"
   ]
  },
  {
   "cell_type": "markdown",
   "metadata": {},
   "source": [
    "## **Analysis of Results**\n",
    "\n",
    "- **Performance**:\n",
    "  - Retrofitted GloVe embeddings outperformed baseline and SBERT.\n",
    "  - Demonstrates the value of domain adaptation for specialized tasks.\n",
    "- **Efficiency**:\n",
    "  - Retrofitted GloVe is computationally efficient compared to SBERT and other transformer models.\n",
    "  - Suitable for large-scale, privacy-sensitive applications without reliance on external APIs or LLMs."
   ]
  },
  {
   "cell_type": "markdown",
   "metadata": {},
   "source": [
    "## **Future Work**\n",
    "\n",
    "- Expand retrofitting to include other categories of hate speech.\n",
    "- Investigate hybrid models combining retrofitted embeddings with fine-tuned transformers.\n",
    "- Develop real-time meme classification systems for social media moderation."
   ]
  }
 ],
 "metadata": {
  "kernelspec": {
   "display_name": "Python 3",
   "language": "python",
   "name": "python3"
  },
  "language_info": {
   "name": "python",
   "version": "3.9.7"
  }
 },
 "nbformat": 4,
 "nbformat_minor": 5
}
